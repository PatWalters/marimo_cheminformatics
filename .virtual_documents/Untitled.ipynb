import itertools
import useful_rdkit_utils as uru


lst = [1,2,3]


list(itertools.permutations(lst))



