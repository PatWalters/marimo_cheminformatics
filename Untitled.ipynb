{
 "cells": [
  {
   "cell_type": "code",
   "execution_count": 9,
   "id": "37d9c908-34cd-421e-995b-4736274d888b",
   "metadata": {},
   "outputs": [],
   "source": [
    "import itertools\n",
    "import useful_rdkit_utils as uru"
   ]
  },
  {
   "cell_type": "code",
   "execution_count": 5,
   "id": "1be09921-d146-47f9-ad73-c3f7cf71487a",
   "metadata": {},
   "outputs": [],
   "source": [
    "lst = [1,2,3]"
   ]
  },
  {
   "cell_type": "code",
   "execution_count": 8,
   "id": "c4673d69-ad82-4dbd-a431-a7a031871f86",
   "metadata": {},
   "outputs": [
    {
     "data": {
      "text/plain": [
       "[(1, 2, 3), (1, 3, 2), (2, 1, 3), (2, 3, 1), (3, 1, 2), (3, 2, 1)]"
      ]
     },
     "execution_count": 8,
     "metadata": {},
     "output_type": "execute_result"
    }
   ],
   "source": [
    "list(itertools.permutations(lst))"
   ]
  },
  {
   "cell_type": "code",
   "execution_count": null,
   "id": "2949b694-0a02-4fa6-9759-3cb256546833",
   "metadata": {},
   "outputs": [],
   "source": []
  }
 ],
 "metadata": {
  "kernelspec": {
   "display_name": "Python 3 (ipykernel)",
   "language": "python",
   "name": "python3"
  },
  "language_info": {
   "codemirror_mode": {
    "name": "ipython",
    "version": 3
   },
   "file_extension": ".py",
   "mimetype": "text/x-python",
   "name": "python",
   "nbconvert_exporter": "python",
   "pygments_lexer": "ipython3",
   "version": "3.11.11"
  }
 },
 "nbformat": 4,
 "nbformat_minor": 5
}
